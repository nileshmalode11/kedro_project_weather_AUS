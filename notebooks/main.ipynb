{
 "cells": [
  {
   "cell_type": "code",
   "execution_count": 1,
   "id": "d15cc620-0283-4cd3-8434-c1ea8d8c3b57",
   "metadata": {},
   "outputs": [
    {
     "data": {
      "text/html": [
       "<pre style=\"white-space:pre;overflow-x:auto;line-height:normal;font-family:Menlo,'DejaVu Sans Mono',consolas,'Courier New',monospace\"><span style=\"color: #7fbfbf; text-decoration-color: #7fbfbf\">[05/03/23 16:54:59] </span><span style=\"color: #000080; text-decoration-color: #000080\">INFO    </span> Resolved project path as:                                              <a href=\"file://C:\\Users\\Lenovo\\desktop\\work\\weather\\venv\\lib\\site-packages\\kedro\\ipython\\__init__.py\" target=\"_blank\"><span style=\"color: #7f7f7f; text-decoration-color: #7f7f7f\">__init__.py</span></a><span style=\"color: #7f7f7f; text-decoration-color: #7f7f7f\">:</span><a href=\"file://C:\\Users\\Lenovo\\desktop\\work\\weather\\venv\\lib\\site-packages\\kedro\\ipython\\__init__.py#134\" target=\"_blank\"><span style=\"color: #7f7f7f; text-decoration-color: #7f7f7f\">134</span></a>\n",
       "<span style=\"color: #7fbfbf; text-decoration-color: #7fbfbf\">                    </span>         C:\\Users\\Lenovo\\Desktop\\work\\weather\\weather-report.                   <span style=\"color: #7f7f7f; text-decoration-color: #7f7f7f\">               </span>\n",
       "<span style=\"color: #7fbfbf; text-decoration-color: #7fbfbf\">                    </span>         To set a different path, run <span style=\"color: #008000; text-decoration-color: #008000\">'%reload_kedro &lt;project_root&gt;'</span>            <span style=\"color: #7f7f7f; text-decoration-color: #7f7f7f\">               </span>\n",
       "</pre>\n"
      ],
      "text/plain": [
       "\u001b[2;36m[05/03/23 16:54:59]\u001b[0m\u001b[2;36m \u001b[0m\u001b[34mINFO    \u001b[0m Resolved project path as:                                              \u001b]8;id=919853;file://C:\\Users\\Lenovo\\desktop\\work\\weather\\venv\\lib\\site-packages\\kedro\\ipython\\__init__.py\u001b\\\u001b[2m__init__.py\u001b[0m\u001b]8;;\u001b\\\u001b[2m:\u001b[0m\u001b]8;id=355812;file://C:\\Users\\Lenovo\\desktop\\work\\weather\\venv\\lib\\site-packages\\kedro\\ipython\\__init__.py#134\u001b\\\u001b[2m134\u001b[0m\u001b]8;;\u001b\\\n",
       "\u001b[2;36m                    \u001b[0m         C:\\Users\\Lenovo\\Desktop\\work\\weather\\weather-report.                   \u001b[2m               \u001b[0m\n",
       "\u001b[2;36m                    \u001b[0m         To set a different path, run \u001b[32m'%reload_kedro \u001b[0m\u001b[32m<\u001b[0m\u001b[32mproject_root\u001b[0m\u001b[32m>\u001b[0m\u001b[32m'\u001b[0m            \u001b[2m               \u001b[0m\n"
      ]
     },
     "metadata": {},
     "output_type": "display_data"
    },
    {
     "data": {
      "text/html": [
       "<pre style=\"white-space:pre;overflow-x:auto;line-height:normal;font-family:Menlo,'DejaVu Sans Mono',consolas,'Courier New',monospace\"><span style=\"color: #7fbfbf; text-decoration-color: #7fbfbf\">[05/03/23 16:54:59] </span><span style=\"color: #800000; text-decoration-color: #800000\">WARNING </span> Failed to send data to Heap. Exception of type <span style=\"color: #008000; text-decoration-color: #008000\">'ConnectionError'</span> was     <a href=\"file://C:\\Users\\Lenovo\\desktop\\work\\weather\\venv\\lib\\site-packages\\kedro_telemetry\\plugin.py\" target=\"_blank\"><span style=\"color: #7f7f7f; text-decoration-color: #7f7f7f\">plugin.py</span></a><span style=\"color: #7f7f7f; text-decoration-color: #7f7f7f\">:</span><a href=\"file://C:\\Users\\Lenovo\\desktop\\work\\weather\\venv\\lib\\site-packages\\kedro_telemetry\\plugin.py#219\" target=\"_blank\"><span style=\"color: #7f7f7f; text-decoration-color: #7f7f7f\">219</span></a>\n",
       "<span style=\"color: #7fbfbf; text-decoration-color: #7fbfbf\">                    </span>         raised.                                                                  <span style=\"color: #7f7f7f; text-decoration-color: #7f7f7f\">             </span>\n",
       "</pre>\n"
      ],
      "text/plain": [
       "\u001b[2;36m[05/03/23 16:54:59]\u001b[0m\u001b[2;36m \u001b[0m\u001b[31mWARNING \u001b[0m Failed to send data to Heap. Exception of type \u001b[32m'ConnectionError'\u001b[0m was     \u001b]8;id=565518;file://C:\\Users\\Lenovo\\desktop\\work\\weather\\venv\\lib\\site-packages\\kedro_telemetry\\plugin.py\u001b\\\u001b[2mplugin.py\u001b[0m\u001b]8;;\u001b\\\u001b[2m:\u001b[0m\u001b]8;id=751943;file://C:\\Users\\Lenovo\\desktop\\work\\weather\\venv\\lib\\site-packages\\kedro_telemetry\\plugin.py#219\u001b\\\u001b[2m219\u001b[0m\u001b]8;;\u001b\\\n",
       "\u001b[2;36m                    \u001b[0m         raised.                                                                  \u001b[2m             \u001b[0m\n"
      ]
     },
     "metadata": {},
     "output_type": "display_data"
    },
    {
     "data": {
      "text/html": [
       "<pre style=\"white-space:pre;overflow-x:auto;line-height:normal;font-family:Menlo,'DejaVu Sans Mono',consolas,'Courier New',monospace\"><span style=\"color: #7fbfbf; text-decoration-color: #7fbfbf\">                    </span><span style=\"color: #000080; text-decoration-color: #000080\">INFO    </span> Kedro project weather_report                                           <a href=\"file://C:\\Users\\Lenovo\\desktop\\work\\weather\\venv\\lib\\site-packages\\kedro\\ipython\\__init__.py\" target=\"_blank\"><span style=\"color: #7f7f7f; text-decoration-color: #7f7f7f\">__init__.py</span></a><span style=\"color: #7f7f7f; text-decoration-color: #7f7f7f\">:</span><a href=\"file://C:\\Users\\Lenovo\\desktop\\work\\weather\\venv\\lib\\site-packages\\kedro\\ipython\\__init__.py#103\" target=\"_blank\"><span style=\"color: #7f7f7f; text-decoration-color: #7f7f7f\">103</span></a>\n",
       "</pre>\n"
      ],
      "text/plain": [
       "\u001b[2;36m                   \u001b[0m\u001b[2;36m \u001b[0m\u001b[34mINFO    \u001b[0m Kedro project weather_report                                           \u001b]8;id=691037;file://C:\\Users\\Lenovo\\desktop\\work\\weather\\venv\\lib\\site-packages\\kedro\\ipython\\__init__.py\u001b\\\u001b[2m__init__.py\u001b[0m\u001b]8;;\u001b\\\u001b[2m:\u001b[0m\u001b]8;id=158109;file://C:\\Users\\Lenovo\\desktop\\work\\weather\\venv\\lib\\site-packages\\kedro\\ipython\\__init__.py#103\u001b\\\u001b[2m103\u001b[0m\u001b]8;;\u001b\\\n"
      ]
     },
     "metadata": {},
     "output_type": "display_data"
    },
    {
     "data": {
      "text/html": [
       "<pre style=\"white-space:pre;overflow-x:auto;line-height:normal;font-family:Menlo,'DejaVu Sans Mono',consolas,'Courier New',monospace\"><span style=\"color: #7fbfbf; text-decoration-color: #7fbfbf\">                    </span><span style=\"color: #000080; text-decoration-color: #000080\">INFO    </span> Defined global variable <span style=\"color: #008000; text-decoration-color: #008000\">'context'</span>, <span style=\"color: #008000; text-decoration-color: #008000\">'session'</span>, <span style=\"color: #008000; text-decoration-color: #008000\">'catalog'</span> and            <a href=\"file://C:\\Users\\Lenovo\\desktop\\work\\weather\\venv\\lib\\site-packages\\kedro\\ipython\\__init__.py\" target=\"_blank\"><span style=\"color: #7f7f7f; text-decoration-color: #7f7f7f\">__init__.py</span></a><span style=\"color: #7f7f7f; text-decoration-color: #7f7f7f\">:</span><a href=\"file://C:\\Users\\Lenovo\\desktop\\work\\weather\\venv\\lib\\site-packages\\kedro\\ipython\\__init__.py#104\" target=\"_blank\"><span style=\"color: #7f7f7f; text-decoration-color: #7f7f7f\">104</span></a>\n",
       "<span style=\"color: #7fbfbf; text-decoration-color: #7fbfbf\">                    </span>         <span style=\"color: #008000; text-decoration-color: #008000\">'pipelines'</span>                                                            <span style=\"color: #7f7f7f; text-decoration-color: #7f7f7f\">               </span>\n",
       "</pre>\n"
      ],
      "text/plain": [
       "\u001b[2;36m                   \u001b[0m\u001b[2;36m \u001b[0m\u001b[34mINFO    \u001b[0m Defined global variable \u001b[32m'context'\u001b[0m, \u001b[32m'session'\u001b[0m, \u001b[32m'catalog'\u001b[0m and            \u001b]8;id=652242;file://C:\\Users\\Lenovo\\desktop\\work\\weather\\venv\\lib\\site-packages\\kedro\\ipython\\__init__.py\u001b\\\u001b[2m__init__.py\u001b[0m\u001b]8;;\u001b\\\u001b[2m:\u001b[0m\u001b]8;id=662952;file://C:\\Users\\Lenovo\\desktop\\work\\weather\\venv\\lib\\site-packages\\kedro\\ipython\\__init__.py#104\u001b\\\u001b[2m104\u001b[0m\u001b]8;;\u001b\\\n",
       "\u001b[2;36m                    \u001b[0m         \u001b[32m'pipelines'\u001b[0m                                                            \u001b[2m               \u001b[0m\n"
      ]
     },
     "metadata": {},
     "output_type": "display_data"
    }
   ],
   "source": [
    "import pandas as pd\n",
    "%reload_kedro"
   ]
  },
  {
   "cell_type": "code",
   "execution_count": 2,
   "id": "9c31d388-5e61-424e-aeca-ed64fc04341b",
   "metadata": {},
   "outputs": [
    {
     "data": {
      "text/plain": [
       "['weather_aus_raw', 'parameters']"
      ]
     },
     "execution_count": 2,
     "metadata": {},
     "output_type": "execute_result"
    }
   ],
   "source": [
    "catalog.list()"
   ]
  },
  {
   "cell_type": "code",
   "execution_count": 3,
   "id": "506cede6-a9b0-4c84-bf85-768304b6d14e",
   "metadata": {},
   "outputs": [
    {
     "data": {
      "text/html": [
       "<pre style=\"white-space:pre;overflow-x:auto;line-height:normal;font-family:Menlo,'DejaVu Sans Mono',consolas,'Courier New',monospace\"><span style=\"color: #7fbfbf; text-decoration-color: #7fbfbf\">[05/03/23 16:58:53] </span><span style=\"color: #000080; text-decoration-color: #000080\">INFO    </span> Loading data from <span style=\"color: #008000; text-decoration-color: #008000\">'weather_aus_raw'</span> <span style=\"font-weight: bold\">(</span>CSVDataSet<span style=\"font-weight: bold\">)</span><span style=\"color: #808000; text-decoration-color: #808000\">...</span>                <a href=\"file://C:\\Users\\Lenovo\\desktop\\work\\weather\\venv\\lib\\site-packages\\kedro\\io\\data_catalog.py\" target=\"_blank\"><span style=\"color: #7f7f7f; text-decoration-color: #7f7f7f\">data_catalog.py</span></a><span style=\"color: #7f7f7f; text-decoration-color: #7f7f7f\">:</span><a href=\"file://C:\\Users\\Lenovo\\desktop\\work\\weather\\venv\\lib\\site-packages\\kedro\\io\\data_catalog.py#343\" target=\"_blank\"><span style=\"color: #7f7f7f; text-decoration-color: #7f7f7f\">343</span></a>\n",
       "</pre>\n"
      ],
      "text/plain": [
       "\u001b[2;36m[05/03/23 16:58:53]\u001b[0m\u001b[2;36m \u001b[0m\u001b[34mINFO    \u001b[0m Loading data from \u001b[32m'weather_aus_raw'\u001b[0m \u001b[1m(\u001b[0mCSVDataSet\u001b[1m)\u001b[0m\u001b[33m...\u001b[0m                \u001b]8;id=692648;file://C:\\Users\\Lenovo\\desktop\\work\\weather\\venv\\lib\\site-packages\\kedro\\io\\data_catalog.py\u001b\\\u001b[2mdata_catalog.py\u001b[0m\u001b]8;;\u001b\\\u001b[2m:\u001b[0m\u001b]8;id=699413;file://C:\\Users\\Lenovo\\desktop\\work\\weather\\venv\\lib\\site-packages\\kedro\\io\\data_catalog.py#343\u001b\\\u001b[2m343\u001b[0m\u001b]8;;\u001b\\\n"
      ]
     },
     "metadata": {},
     "output_type": "display_data"
    }
   ],
   "source": [
    "df = catalog.load(\"weather_aus_raw\")"
   ]
  },
  {
   "cell_type": "code",
   "execution_count": 4,
   "id": "013346d0-d1e6-496a-8850-d46f796a9d88",
   "metadata": {},
   "outputs": [
    {
     "data": {
      "text/html": [
       "<div>\n",
       "<style scoped>\n",
       "    .dataframe tbody tr th:only-of-type {\n",
       "        vertical-align: middle;\n",
       "    }\n",
       "\n",
       "    .dataframe tbody tr th {\n",
       "        vertical-align: top;\n",
       "    }\n",
       "\n",
       "    .dataframe thead th {\n",
       "        text-align: right;\n",
       "    }\n",
       "</style>\n",
       "<table border=\"1\" class=\"dataframe\">\n",
       "  <thead>\n",
       "    <tr style=\"text-align: right;\">\n",
       "      <th></th>\n",
       "      <th>Date</th>\n",
       "      <th>Location</th>\n",
       "      <th>MinTemp</th>\n",
       "      <th>MaxTemp</th>\n",
       "      <th>Rainfall</th>\n",
       "      <th>Evaporation</th>\n",
       "      <th>Sunshine</th>\n",
       "      <th>WindGustDir</th>\n",
       "      <th>WindGustSpeed</th>\n",
       "      <th>WindDir9am</th>\n",
       "      <th>...</th>\n",
       "      <th>Humidity9am</th>\n",
       "      <th>Humidity3pm</th>\n",
       "      <th>Pressure9am</th>\n",
       "      <th>Pressure3pm</th>\n",
       "      <th>Cloud9am</th>\n",
       "      <th>Cloud3pm</th>\n",
       "      <th>Temp9am</th>\n",
       "      <th>Temp3pm</th>\n",
       "      <th>RainToday</th>\n",
       "      <th>RainTomorrow</th>\n",
       "    </tr>\n",
       "  </thead>\n",
       "  <tbody>\n",
       "    <tr>\n",
       "      <th>0</th>\n",
       "      <td>2008-12-01</td>\n",
       "      <td>Albury</td>\n",
       "      <td>13.4</td>\n",
       "      <td>22.9</td>\n",
       "      <td>0.6</td>\n",
       "      <td>NaN</td>\n",
       "      <td>NaN</td>\n",
       "      <td>W</td>\n",
       "      <td>44.0</td>\n",
       "      <td>W</td>\n",
       "      <td>...</td>\n",
       "      <td>71.0</td>\n",
       "      <td>22.0</td>\n",
       "      <td>1007.7</td>\n",
       "      <td>1007.1</td>\n",
       "      <td>8.0</td>\n",
       "      <td>NaN</td>\n",
       "      <td>16.9</td>\n",
       "      <td>21.8</td>\n",
       "      <td>No</td>\n",
       "      <td>No</td>\n",
       "    </tr>\n",
       "    <tr>\n",
       "      <th>1</th>\n",
       "      <td>2008-12-02</td>\n",
       "      <td>Albury</td>\n",
       "      <td>7.4</td>\n",
       "      <td>25.1</td>\n",
       "      <td>0.0</td>\n",
       "      <td>NaN</td>\n",
       "      <td>NaN</td>\n",
       "      <td>WNW</td>\n",
       "      <td>44.0</td>\n",
       "      <td>NNW</td>\n",
       "      <td>...</td>\n",
       "      <td>44.0</td>\n",
       "      <td>25.0</td>\n",
       "      <td>1010.6</td>\n",
       "      <td>1007.8</td>\n",
       "      <td>NaN</td>\n",
       "      <td>NaN</td>\n",
       "      <td>17.2</td>\n",
       "      <td>24.3</td>\n",
       "      <td>No</td>\n",
       "      <td>No</td>\n",
       "    </tr>\n",
       "    <tr>\n",
       "      <th>2</th>\n",
       "      <td>2008-12-03</td>\n",
       "      <td>Albury</td>\n",
       "      <td>12.9</td>\n",
       "      <td>25.7</td>\n",
       "      <td>0.0</td>\n",
       "      <td>NaN</td>\n",
       "      <td>NaN</td>\n",
       "      <td>WSW</td>\n",
       "      <td>46.0</td>\n",
       "      <td>W</td>\n",
       "      <td>...</td>\n",
       "      <td>38.0</td>\n",
       "      <td>30.0</td>\n",
       "      <td>1007.6</td>\n",
       "      <td>1008.7</td>\n",
       "      <td>NaN</td>\n",
       "      <td>2.0</td>\n",
       "      <td>21.0</td>\n",
       "      <td>23.2</td>\n",
       "      <td>No</td>\n",
       "      <td>No</td>\n",
       "    </tr>\n",
       "    <tr>\n",
       "      <th>3</th>\n",
       "      <td>2008-12-04</td>\n",
       "      <td>Albury</td>\n",
       "      <td>9.2</td>\n",
       "      <td>28.0</td>\n",
       "      <td>0.0</td>\n",
       "      <td>NaN</td>\n",
       "      <td>NaN</td>\n",
       "      <td>NE</td>\n",
       "      <td>24.0</td>\n",
       "      <td>SE</td>\n",
       "      <td>...</td>\n",
       "      <td>45.0</td>\n",
       "      <td>16.0</td>\n",
       "      <td>1017.6</td>\n",
       "      <td>1012.8</td>\n",
       "      <td>NaN</td>\n",
       "      <td>NaN</td>\n",
       "      <td>18.1</td>\n",
       "      <td>26.5</td>\n",
       "      <td>No</td>\n",
       "      <td>No</td>\n",
       "    </tr>\n",
       "    <tr>\n",
       "      <th>4</th>\n",
       "      <td>2008-12-05</td>\n",
       "      <td>Albury</td>\n",
       "      <td>17.5</td>\n",
       "      <td>32.3</td>\n",
       "      <td>1.0</td>\n",
       "      <td>NaN</td>\n",
       "      <td>NaN</td>\n",
       "      <td>W</td>\n",
       "      <td>41.0</td>\n",
       "      <td>ENE</td>\n",
       "      <td>...</td>\n",
       "      <td>82.0</td>\n",
       "      <td>33.0</td>\n",
       "      <td>1010.8</td>\n",
       "      <td>1006.0</td>\n",
       "      <td>7.0</td>\n",
       "      <td>8.0</td>\n",
       "      <td>17.8</td>\n",
       "      <td>29.7</td>\n",
       "      <td>No</td>\n",
       "      <td>No</td>\n",
       "    </tr>\n",
       "  </tbody>\n",
       "</table>\n",
       "<p>5 rows × 23 columns</p>\n",
       "</div>"
      ],
      "text/plain": [
       "         Date Location  MinTemp  MaxTemp  Rainfall  Evaporation  Sunshine   \n",
       "0  2008-12-01   Albury     13.4     22.9       0.6          NaN       NaN  \\\n",
       "1  2008-12-02   Albury      7.4     25.1       0.0          NaN       NaN   \n",
       "2  2008-12-03   Albury     12.9     25.7       0.0          NaN       NaN   \n",
       "3  2008-12-04   Albury      9.2     28.0       0.0          NaN       NaN   \n",
       "4  2008-12-05   Albury     17.5     32.3       1.0          NaN       NaN   \n",
       "\n",
       "  WindGustDir  WindGustSpeed WindDir9am  ... Humidity9am  Humidity3pm   \n",
       "0           W           44.0          W  ...        71.0         22.0  \\\n",
       "1         WNW           44.0        NNW  ...        44.0         25.0   \n",
       "2         WSW           46.0          W  ...        38.0         30.0   \n",
       "3          NE           24.0         SE  ...        45.0         16.0   \n",
       "4           W           41.0        ENE  ...        82.0         33.0   \n",
       "\n",
       "   Pressure9am  Pressure3pm  Cloud9am  Cloud3pm  Temp9am  Temp3pm  RainToday   \n",
       "0       1007.7       1007.1       8.0       NaN     16.9     21.8         No  \\\n",
       "1       1010.6       1007.8       NaN       NaN     17.2     24.3         No   \n",
       "2       1007.6       1008.7       NaN       2.0     21.0     23.2         No   \n",
       "3       1017.6       1012.8       NaN       NaN     18.1     26.5         No   \n",
       "4       1010.8       1006.0       7.0       8.0     17.8     29.7         No   \n",
       "\n",
       "   RainTomorrow  \n",
       "0            No  \n",
       "1            No  \n",
       "2            No  \n",
       "3            No  \n",
       "4            No  \n",
       "\n",
       "[5 rows x 23 columns]"
      ]
     },
     "execution_count": 4,
     "metadata": {},
     "output_type": "execute_result"
    }
   ],
   "source": [
    "df.head()"
   ]
  },
  {
   "cell_type": "code",
   "execution_count": 5,
   "id": "85510bd8-e7ff-4489-bf72-f41e70e3f33a",
   "metadata": {},
   "outputs": [],
   "source": [
    "def extract_training_data(df):\n",
    "  \"\"\"Drop date column from dataframe.\n",
    "  Arg=df\n",
    "  output=Dataframe with no date column.\"\"\"\n",
    "  df=df.drop([\"Date\"],axis=1)\n",
    "  df1=df[df['RainTomorrow'].notna()] \n",
    "  return df1"
   ]
  },
  {
   "cell_type": "code",
   "execution_count": 6,
   "id": "7b97adfb-8a55-45a1-863b-00d680683a4d",
   "metadata": {},
   "outputs": [],
   "source": [
    "def treat_missing(df1):\n",
    "  \"\"\"treat missing values with ffill and bfill method\n",
    "\n",
    "  Arg=df_training_data\n",
    "\n",
    "  output=nan values from training data get fill with the ffill and bfill method.\"\"\"\n",
    "  df1_treat_training_data=df1.fillna(method=\"ffill\",axis=0).fillna(method=\"bfill\",axis=0)\n",
    "  return df1_treat_training_data"
   ]
  },
  {
   "cell_type": "code",
   "execution_count": 7,
   "id": "0915425e-bccd-4a03-9150-6226ec6e06a3",
   "metadata": {},
   "outputs": [],
   "source": [
    "def training_data_split(df1_treat_training_data):\n",
    "  \"\"\"Training data spliting ie.separating predictors and response variables.\n",
    "\n",
    "  Arg=df_treat_training_data\n",
    "\n",
    "  Output=Target variable get separated from main traing data.\"\"\"\n",
    "  X_training=df1_treat_training_data.drop([\"RainTomorrow\"],axis=1)\n",
    "  y_training=df1_treat_training_data[\"RainTomorrow\"]\n",
    "  return X_training, y_training"
   ]
  },
  {
   "cell_type": "code",
   "execution_count": 8,
   "id": "b05857ee-ff9e-4580-bfea-919c7006a0ef",
   "metadata": {},
   "outputs": [],
   "source": [
    "def lebel_encoding_filling_null(X_training):\n",
    "  \"\"\"Lebal encoding on the discrite varibales.\n",
    "\n",
    "  Arg=X_training\n",
    "\n",
    "  Output=converting categorical data into numeric variable.\"\"\"\n",
    "  \n",
    "  label_encoder = preprocessing.LabelEncoder()\n",
    "  \n",
    "  X_training[\"Location\"]=label_encoder.fit_transform(X_training[\"Location\"])\n",
    "  X_training[\"WindGustDir\"]=label_encoder.fit_transform(X_training[\"WindGustDir\"])\n",
    "  X_training[\"WindDir9am\"]=label_encoder.fit_transform(X_training[\"WindDir9am\"])\n",
    "  X_training[\"WindDir3pm\"]=label_encoder.fit_transform(X_training[\"WindDir3pm\"])\n",
    "  X_training[\"RainToday\"]=label_encoder.fit_transform(X_training[\"RainToday\"])\n",
    "  df2 = X_training.copy()\n",
    "  return df2"
   ]
  },
  {
   "cell_type": "code",
   "execution_count": 9,
   "id": "7647aa05-d427-4dc7-b752-74029065e68f",
   "metadata": {},
   "outputs": [],
   "source": [
    "def split_data(df2,y_training):\n",
    "  \"\"\"Split data into features and targets training and test set.\n",
    "  Args:\n",
    "    data;data containing features and targets\n",
    "  returns:\n",
    "    split data\n",
    " \"\"\"\n",
    "  \n",
    "\n",
    "  X_train,X_test,y_train,y_test=train_test_split(df2,y_training,random_state=0,test_size=0.20)\n",
    "\n",
    "  return X_train,X_test,y_train,y_test "
   ]
  },
  {
   "cell_type": "code",
   "execution_count": 10,
   "id": "5008faa1-6971-4b9f-903e-e283a01af033",
   "metadata": {},
   "outputs": [],
   "source": [
    "def train_model(X_train,X_test,y_train,y_test ):\n",
    "  \"\"\"Trains the logistic regression model.\n",
    "  Args:\n",
    "      X_train:Training data of independent features\n",
    "      y_train:Training data for price\n",
    "  Returns:\n",
    "      Trined model.\n",
    " \"\"\"\n",
    "  #instantiate the model\n",
    "  logreg=LogisticRegression(solver='liblinear',random_state=0)\n",
    "\n",
    "  #fit the model\n",
    "  logreg = logreg.fit(X_train,y_train)\n",
    "  return logreg\n"
   ]
  },
  {
   "cell_type": "code",
   "execution_count": 11,
   "id": "7830ddb7-3522-43e6-b7a3-d0c40087da60",
   "metadata": {},
   "outputs": [],
   "source": [
    "def evaluate_model(logreg:LogisticRegression, X_test:pd.DataFrame, y_test:pd.Series):\n",
    "  \"\"\"calculate and logs the coefficient of determination.\n",
    "  Args:\n",
    "      logreg:Trined model\n",
    "      X_test:Testing data of independent features\n",
    "      y_test:Testing data for price\n",
    "  Returns:\n",
    "      y_pred_test:prediction on x test\n",
    "      acc        :accuracy_score\n",
    "  \"\"\"\n",
    "  y_pred_test=logreg.predict(X_test)\n",
    "  #Check accuracy score\n",
    "  \n",
    "  acc=(accuracy_score(y_test,y_pred_test))\n",
    "  print('model accuracy_score: ',acc)\n",
    "  return y_pred_test,acc"
   ]
  },
  {
   "cell_type": "code",
   "execution_count": null,
   "id": "5bd58808-0789-477a-9b94-3352edbda385",
   "metadata": {},
   "outputs": [],
   "source": [
    "def inferance_data(df):\n",
    "  \"\"\"Drop date column from dataframe.\n",
    "  Arg=df\n",
    "  output=Dataframe with no date column.\"\"\"\n",
    "  df=df.drop([\"Date\"],axis=1)\n",
    "  df_inferance=df[df['RainTomorrow'].isnana()] \n",
    "  return df_inferance"
   ]
  },
  {
   "cell_type": "code",
   "execution_count": null,
   "id": "d5635571",
   "metadata": {},
   "outputs": [],
   "source": [
    "def treat_missing_inferance(df_inferance):\n",
    "  \"\"\"treat missing values with ffill and bfill method\n",
    "\n",
    "  Arg=df_training_data\n",
    "\n",
    "  output=nan values from training data get fill with the ffill and bfill method.\"\"\"\n",
    "  df1_treat_inferance_data=df_inferance.fillna(method=\"ffill\",axis=0).fillna(method=\"bfill\",axis=0)\n",
    "  return df1_treat_inferance_data"
   ]
  },
  {
   "cell_type": "code",
   "execution_count": null,
   "id": "b2eec71d",
   "metadata": {},
   "outputs": [],
   "source": [
    "def inferance_data_split(df1_treat_inferance_data):\n",
    "  \"\"\"Training data spliting ie.separating predictors and response variables.\n",
    "\n",
    "  Arg=df_treat_training_data\n",
    "\n",
    "  Output=Target variable get separated from main traing data.\"\"\"\n",
    "  X_inferance=df1_treat_inferance_data.drop([\"RainTomorrow\"],axis=1)\n",
    "  y_inferance=df1_treat_inferance_data[\"RainTomorrow\"]\n",
    "  return X_inferance, y_inferance"
   ]
  },
  {
   "cell_type": "code",
   "execution_count": null,
   "id": "56f85c71",
   "metadata": {},
   "outputs": [],
   "source": [
    "def lebel_encoding_filling_null(X_inferance):\n",
    "  \"\"\"Lebal encoding on the discrite varibales.\n",
    "\n",
    "  Arg=X_training\n",
    "\n",
    "  Output=converting categorical data into numeric variable.\"\"\"\n",
    "  \n",
    "  label_encoder = preprocessing.LabelEncoder()\n",
    "  \n",
    "  X_inferance[\"Location\"]=label_encoder.fit_transform(X_inferance[\"Location\"])\n",
    "  X_inferance[\"WindGustDir\"]=label_encoder.fit_transform(X_inferance[\"WindGustDir\"])\n",
    "  X_inferance[\"WindDir9am\"]=label_encoder.fit_transform(X_inferance[\"WindDir9am\"])\n",
    "  X_inferance[\"WindDir3pm\"]=label_encoder.fit_transform(X_inferance[\"WindDir3pm\"])\n",
    "  X_inferance[\"RainToday\"]=label_encoder.fit_transform(X_inferance[\"RainToday\"])\n",
    "  df2_inferance = X_inferance.copy()\n",
    "  return df2_inferance"
   ]
  },
  {
   "cell_type": "code",
   "execution_count": null,
   "id": "c777af17",
   "metadata": {},
   "outputs": [],
   "source": []
  }
 ],
 "metadata": {
  "kernelspec": {
   "display_name": "Kedro (weather_report)",
   "language": "python",
   "name": "kedro_weather_report"
  },
  "language_info": {
   "codemirror_mode": {
    "name": "ipython",
    "version": 3
   },
   "file_extension": ".py",
   "mimetype": "text/x-python",
   "name": "python",
   "nbconvert_exporter": "python",
   "pygments_lexer": "ipython3",
   "version": "3.10.8"
  }
 },
 "nbformat": 4,
 "nbformat_minor": 5
}
